{
 "cells": [
  {
   "cell_type": "markdown",
   "id": "5d6770c8",
   "metadata": {
    "papermill": {
     "duration": 0.008966,
     "end_time": "2023-11-06T00:33:51.232198",
     "exception": false,
     "start_time": "2023-11-06T00:33:51.223232",
     "status": "completed"
    },
    "tags": []
   },
   "source": [
    "# Calculating Potential Customer Returns with Rule-Based Classification"
   ]
  },
  {
   "cell_type": "markdown",
   "id": "ed089e7b",
   "metadata": {
    "_cell_guid": "b1076dfc-b9ad-4769-8c92-a6c4dae69d19",
    "_uuid": "8f2839f25d086af736a60e9eeb907d3b93b6e0e5",
    "papermill": {
     "duration": 0.008743,
     "end_time": "2023-11-06T00:33:51.250338",
     "exception": false,
     "start_time": "2023-11-06T00:33:51.241595",
     "status": "completed"
    },
    "tags": []
   },
   "source": [
    "## Business Problem"
   ]
  },
  {
   "cell_type": "markdown",
   "id": "766568cc",
   "metadata": {
    "papermill": {
     "duration": 0.008344,
     "end_time": "2023-11-06T00:33:51.269336",
     "exception": false,
     "start_time": "2023-11-06T00:33:51.260992",
     "status": "completed"
    },
    "tags": []
   },
   "source": [
    "A gaming company wants to create level-based new customer profiles (personas) using certain characteristics of its customers and then create segments based on these new customer profiles. They aim to estimate how much, on average, new potential customers, who match these segments, could potentially bring in revenue for the company."
   ]
  },
  {
   "cell_type": "markdown",
   "id": "7a45b011",
   "metadata": {
    "papermill": {
     "duration": 0.008226,
     "end_time": "2023-11-06T00:33:51.286809",
     "exception": false,
     "start_time": "2023-11-06T00:33:51.278583",
     "status": "completed"
    },
    "tags": []
   },
   "source": [
    "*The dataset \"Persona.csv\" contains the prices of products sold by an international gaming company and some demographic information of the users who purchased these products. The dataset is composed of records generated for each sales transaction. This means that the table has not been deduplicated. In other words, a user with specific demographic characteristics may have made multiple purchases.*"
   ]
  },
  {
   "cell_type": "markdown",
   "id": "fba773f3",
   "metadata": {
    "papermill": {
     "duration": 0.008068,
     "end_time": "2023-11-06T00:33:51.303534",
     "exception": false,
     "start_time": "2023-11-06T00:33:51.295466",
     "status": "completed"
    },
    "tags": []
   },
   "source": [
    "## Variables"
   ]
  },
  {
   "cell_type": "markdown",
   "id": "b922aed1",
   "metadata": {
    "papermill": {
     "duration": 0.00813,
     "end_time": "2023-11-06T00:33:51.320659",
     "exception": false,
     "start_time": "2023-11-06T00:33:51.312529",
     "status": "completed"
    },
    "tags": []
   },
   "source": [
    "- PRICE: Customer Expenditure\n",
    "\n",
    "- SOURCE: Customer's Connected Device Type\n",
    "\n",
    "- SEX \n",
    "\n",
    "- COUNTRY\n",
    "\n",
    "- AGE"
   ]
  },
  {
   "cell_type": "code",
   "execution_count": 1,
   "id": "fb7abbc6",
   "metadata": {
    "execution": {
     "iopub.execute_input": "2023-11-06T00:33:51.340376Z",
     "iopub.status.busy": "2023-11-06T00:33:51.339750Z",
     "iopub.status.idle": "2023-11-06T00:33:51.774334Z",
     "shell.execute_reply": "2023-11-06T00:33:51.773152Z"
    },
    "papermill": {
     "duration": 0.448199,
     "end_time": "2023-11-06T00:33:51.777352",
     "exception": false,
     "start_time": "2023-11-06T00:33:51.329153",
     "status": "completed"
    },
    "tags": []
   },
   "outputs": [],
   "source": [
    "import pandas as pd\n",
    "pd.set_option(\"display.max_rows\", None)"
   ]
  },
  {
   "cell_type": "markdown",
   "id": "deff0f2b",
   "metadata": {
    "papermill": {
     "duration": 0.008019,
     "end_time": "2023-11-06T00:33:51.794011",
     "exception": false,
     "start_time": "2023-11-06T00:33:51.785992",
     "status": "completed"
    },
    "tags": []
   },
   "source": [
    "We first read the persona.csv file and check the general information about the dataset."
   ]
  },
  {
   "cell_type": "code",
   "execution_count": 2,
   "id": "47e0ae71",
   "metadata": {
    "execution": {
     "iopub.execute_input": "2023-11-06T00:33:51.812993Z",
     "iopub.status.busy": "2023-11-06T00:33:51.812403Z",
     "iopub.status.idle": "2023-11-06T00:33:51.847368Z",
     "shell.execute_reply": "2023-11-06T00:33:51.845978Z"
    },
    "papermill": {
     "duration": 0.047944,
     "end_time": "2023-11-06T00:33:51.850427",
     "exception": false,
     "start_time": "2023-11-06T00:33:51.802483",
     "status": "completed"
    },
    "tags": []
   },
   "outputs": [],
   "source": [
    "df = pd.read_csv(\"/kaggle/input/persona-csv/persona.csv\")"
   ]
  },
  {
   "cell_type": "code",
   "execution_count": 3,
   "id": "caf4eedf",
   "metadata": {
    "execution": {
     "iopub.execute_input": "2023-11-06T00:33:51.869519Z",
     "iopub.status.busy": "2023-11-06T00:33:51.869019Z",
     "iopub.status.idle": "2023-11-06T00:33:51.906568Z",
     "shell.execute_reply": "2023-11-06T00:33:51.905284Z"
    },
    "papermill": {
     "duration": 0.050852,
     "end_time": "2023-11-06T00:33:51.909922",
     "exception": false,
     "start_time": "2023-11-06T00:33:51.859070",
     "status": "completed"
    },
    "tags": []
   },
   "outputs": [
    {
     "name": "stdout",
     "output_type": "stream",
     "text": [
      "<class 'pandas.core.frame.DataFrame'>\n",
      "Index: 5000 entries, 0 to 4999\n",
      "Data columns (total 5 columns):\n",
      " #   Column   Non-Null Count  Dtype \n",
      "---  ------   --------------  ----- \n",
      " 0   PRICE    5000 non-null   int64 \n",
      " 1   SOURCE   5000 non-null   object\n",
      " 2   SEX      5000 non-null   object\n",
      " 3   COUNTRY  5000 non-null   object\n",
      " 4   AGE      5000 non-null   int64 \n",
      "dtypes: int64(2), object(3)\n",
      "memory usage: 234.4+ KB\n"
     ]
    }
   ],
   "source": [
    "df.head(5)\n",
    "df.shape\n",
    "df.info()"
   ]
  },
  {
   "cell_type": "markdown",
   "id": "706743b7",
   "metadata": {
    "papermill": {
     "duration": 0.008263,
     "end_time": "2023-11-06T00:33:51.926969",
     "exception": false,
     "start_time": "2023-11-06T00:33:51.918706",
     "status": "completed"
    },
    "tags": []
   },
   "source": [
    "How many unique SOURCE values are there? What are their frequencies?\""
   ]
  },
  {
   "cell_type": "code",
   "execution_count": 4,
   "id": "b55f9b97",
   "metadata": {
    "execution": {
     "iopub.execute_input": "2023-11-06T00:33:51.946576Z",
     "iopub.status.busy": "2023-11-06T00:33:51.945522Z",
     "iopub.status.idle": "2023-11-06T00:33:51.957400Z",
     "shell.execute_reply": "2023-11-06T00:33:51.956279Z"
    },
    "papermill": {
     "duration": 0.024298,
     "end_time": "2023-11-06T00:33:51.959920",
     "exception": false,
     "start_time": "2023-11-06T00:33:51.935622",
     "status": "completed"
    },
    "tags": []
   },
   "outputs": [
    {
     "data": {
      "text/plain": [
       "SOURCE\n",
       "android    0.5948\n",
       "ios        0.4052\n",
       "Name: proportion, dtype: float64"
      ]
     },
     "execution_count": 4,
     "metadata": {},
     "output_type": "execute_result"
    }
   ],
   "source": [
    "df[\"SOURCE\"].nunique()\n",
    "df[\"SOURCE\"].value_counts(normalize=True)"
   ]
  },
  {
   "cell_type": "markdown",
   "id": "22127f77",
   "metadata": {
    "papermill": {
     "duration": 0.008433,
     "end_time": "2023-11-06T00:33:51.977085",
     "exception": false,
     "start_time": "2023-11-06T00:33:51.968652",
     "status": "completed"
    },
    "tags": []
   },
   "source": [
    "How many unique PRICE values are there?"
   ]
  },
  {
   "cell_type": "code",
   "execution_count": 5,
   "id": "15400816",
   "metadata": {
    "execution": {
     "iopub.execute_input": "2023-11-06T00:33:51.996886Z",
     "iopub.status.busy": "2023-11-06T00:33:51.995950Z",
     "iopub.status.idle": "2023-11-06T00:33:52.006603Z",
     "shell.execute_reply": "2023-11-06T00:33:52.005161Z"
    },
    "papermill": {
     "duration": 0.0241,
     "end_time": "2023-11-06T00:33:52.009723",
     "exception": false,
     "start_time": "2023-11-06T00:33:51.985623",
     "status": "completed"
    },
    "tags": []
   },
   "outputs": [
    {
     "data": {
      "text/plain": [
       "6"
      ]
     },
     "execution_count": 5,
     "metadata": {},
     "output_type": "execute_result"
    }
   ],
   "source": [
    "df[\"PRICE\"].nunique()"
   ]
  },
  {
   "cell_type": "code",
   "execution_count": 6,
   "id": "c3580ee0",
   "metadata": {
    "execution": {
     "iopub.execute_input": "2023-11-06T00:33:52.030179Z",
     "iopub.status.busy": "2023-11-06T00:33:52.029693Z",
     "iopub.status.idle": "2023-11-06T00:33:52.040273Z",
     "shell.execute_reply": "2023-11-06T00:33:52.038329Z"
    },
    "papermill": {
     "duration": 0.023964,
     "end_time": "2023-11-06T00:33:52.042911",
     "exception": false,
     "start_time": "2023-11-06T00:33:52.018947",
     "status": "completed"
    },
    "tags": []
   },
   "outputs": [
    {
     "data": {
      "text/plain": [
       "PRICE\n",
       "29    1305\n",
       "39    1260\n",
       "49    1031\n",
       "19     992\n",
       "59     212\n",
       "9      200\n",
       "Name: count, dtype: int64"
      ]
     },
     "execution_count": 6,
     "metadata": {},
     "output_type": "execute_result"
    }
   ],
   "source": [
    "df[\"PRICE\"].value_counts()"
   ]
  },
  {
   "cell_type": "markdown",
   "id": "8b20c66a",
   "metadata": {
    "papermill": {
     "duration": 0.008476,
     "end_time": "2023-11-06T00:33:52.060513",
     "exception": false,
     "start_time": "2023-11-06T00:33:52.052037",
     "status": "completed"
    },
    "tags": []
   },
   "source": [
    "Which country has how many sales?"
   ]
  },
  {
   "cell_type": "code",
   "execution_count": 7,
   "id": "c318f5f5",
   "metadata": {
    "execution": {
     "iopub.execute_input": "2023-11-06T00:33:52.080421Z",
     "iopub.status.busy": "2023-11-06T00:33:52.079913Z",
     "iopub.status.idle": "2023-11-06T00:33:52.108395Z",
     "shell.execute_reply": "2023-11-06T00:33:52.107157Z"
    },
    "papermill": {
     "duration": 0.041648,
     "end_time": "2023-11-06T00:33:52.110982",
     "exception": false,
     "start_time": "2023-11-06T00:33:52.069334",
     "status": "completed"
    },
    "tags": []
   },
   "outputs": [
    {
     "data": {
      "text/html": [
       "<div>\n",
       "<style scoped>\n",
       "    .dataframe tbody tr th:only-of-type {\n",
       "        vertical-align: middle;\n",
       "    }\n",
       "\n",
       "    .dataframe tbody tr th {\n",
       "        vertical-align: top;\n",
       "    }\n",
       "\n",
       "    .dataframe thead th {\n",
       "        text-align: right;\n",
       "    }\n",
       "</style>\n",
       "<table border=\"1\" class=\"dataframe\">\n",
       "  <thead>\n",
       "    <tr style=\"text-align: right;\">\n",
       "      <th></th>\n",
       "      <th>PRICE</th>\n",
       "    </tr>\n",
       "    <tr>\n",
       "      <th>COUNTRY</th>\n",
       "      <th></th>\n",
       "    </tr>\n",
       "  </thead>\n",
       "  <tbody>\n",
       "    <tr>\n",
       "      <th>bra</th>\n",
       "      <td>1496</td>\n",
       "    </tr>\n",
       "    <tr>\n",
       "      <th>can</th>\n",
       "      <td>230</td>\n",
       "    </tr>\n",
       "    <tr>\n",
       "      <th>deu</th>\n",
       "      <td>455</td>\n",
       "    </tr>\n",
       "    <tr>\n",
       "      <th>fra</th>\n",
       "      <td>303</td>\n",
       "    </tr>\n",
       "    <tr>\n",
       "      <th>tur</th>\n",
       "      <td>451</td>\n",
       "    </tr>\n",
       "    <tr>\n",
       "      <th>usa</th>\n",
       "      <td>2065</td>\n",
       "    </tr>\n",
       "  </tbody>\n",
       "</table>\n",
       "</div>"
      ],
      "text/plain": [
       "         PRICE\n",
       "COUNTRY       \n",
       "bra       1496\n",
       "can        230\n",
       "deu        455\n",
       "fra        303\n",
       "tur        451\n",
       "usa       2065"
      ]
     },
     "execution_count": 7,
     "metadata": {},
     "output_type": "execute_result"
    }
   ],
   "source": [
    "df.pivot_table(values=\"PRICE\", index=\"COUNTRY\", aggfunc=\"count\")"
   ]
  },
  {
   "cell_type": "markdown",
   "id": "0b517179",
   "metadata": {
    "papermill": {
     "duration": 0.009678,
     "end_time": "2023-11-06T00:33:52.129986",
     "exception": false,
     "start_time": "2023-11-06T00:33:52.120308",
     "status": "completed"
    },
    "tags": []
   },
   "source": [
    "Total revenue from sales by country"
   ]
  },
  {
   "cell_type": "code",
   "execution_count": 8,
   "id": "f22c805f",
   "metadata": {
    "execution": {
     "iopub.execute_input": "2023-11-06T00:33:52.150844Z",
     "iopub.status.busy": "2023-11-06T00:33:52.149625Z",
     "iopub.status.idle": "2023-11-06T00:33:52.169276Z",
     "shell.execute_reply": "2023-11-06T00:33:52.167926Z"
    },
    "papermill": {
     "duration": 0.032769,
     "end_time": "2023-11-06T00:33:52.171957",
     "exception": false,
     "start_time": "2023-11-06T00:33:52.139188",
     "status": "completed"
    },
    "tags": []
   },
   "outputs": [
    {
     "data": {
      "text/html": [
       "<div>\n",
       "<style scoped>\n",
       "    .dataframe tbody tr th:only-of-type {\n",
       "        vertical-align: middle;\n",
       "    }\n",
       "\n",
       "    .dataframe tbody tr th {\n",
       "        vertical-align: top;\n",
       "    }\n",
       "\n",
       "    .dataframe thead tr th {\n",
       "        text-align: left;\n",
       "    }\n",
       "\n",
       "    .dataframe thead tr:last-of-type th {\n",
       "        text-align: right;\n",
       "    }\n",
       "</style>\n",
       "<table border=\"1\" class=\"dataframe\">\n",
       "  <thead>\n",
       "    <tr>\n",
       "      <th></th>\n",
       "      <th>sum</th>\n",
       "    </tr>\n",
       "    <tr>\n",
       "      <th></th>\n",
       "      <th>PRICE</th>\n",
       "    </tr>\n",
       "    <tr>\n",
       "      <th>COUNTRY</th>\n",
       "      <th></th>\n",
       "    </tr>\n",
       "  </thead>\n",
       "  <tbody>\n",
       "    <tr>\n",
       "      <th>bra</th>\n",
       "      <td>51354</td>\n",
       "    </tr>\n",
       "    <tr>\n",
       "      <th>can</th>\n",
       "      <td>7730</td>\n",
       "    </tr>\n",
       "    <tr>\n",
       "      <th>deu</th>\n",
       "      <td>15485</td>\n",
       "    </tr>\n",
       "    <tr>\n",
       "      <th>fra</th>\n",
       "      <td>10177</td>\n",
       "    </tr>\n",
       "    <tr>\n",
       "      <th>tur</th>\n",
       "      <td>15689</td>\n",
       "    </tr>\n",
       "    <tr>\n",
       "      <th>usa</th>\n",
       "      <td>70225</td>\n",
       "    </tr>\n",
       "  </tbody>\n",
       "</table>\n",
       "</div>"
      ],
      "text/plain": [
       "           sum\n",
       "         PRICE\n",
       "COUNTRY       \n",
       "bra      51354\n",
       "can       7730\n",
       "deu      15485\n",
       "fra      10177\n",
       "tur      15689\n",
       "usa      70225"
      ]
     },
     "execution_count": 8,
     "metadata": {},
     "output_type": "execute_result"
    }
   ],
   "source": [
    "df.pivot_table(values=\"PRICE\", index=\"COUNTRY\", aggfunc=[\"sum\"])"
   ]
  },
  {
   "cell_type": "markdown",
   "id": "83a0c231",
   "metadata": {
    "papermill": {
     "duration": 0.008828,
     "end_time": "2023-11-06T00:33:52.190312",
     "exception": false,
     "start_time": "2023-11-06T00:33:52.181484",
     "status": "completed"
    },
    "tags": []
   },
   "source": [
    "The number of sales by SOURCE types"
   ]
  },
  {
   "cell_type": "code",
   "execution_count": 9,
   "id": "460dfcef",
   "metadata": {
    "execution": {
     "iopub.execute_input": "2023-11-06T00:33:52.210654Z",
     "iopub.status.busy": "2023-11-06T00:33:52.210202Z",
     "iopub.status.idle": "2023-11-06T00:33:52.223667Z",
     "shell.execute_reply": "2023-11-06T00:33:52.222770Z"
    },
    "papermill": {
     "duration": 0.026392,
     "end_time": "2023-11-06T00:33:52.225925",
     "exception": false,
     "start_time": "2023-11-06T00:33:52.199533",
     "status": "completed"
    },
    "tags": []
   },
   "outputs": [
    {
     "data": {
      "text/html": [
       "<div>\n",
       "<style scoped>\n",
       "    .dataframe tbody tr th:only-of-type {\n",
       "        vertical-align: middle;\n",
       "    }\n",
       "\n",
       "    .dataframe tbody tr th {\n",
       "        vertical-align: top;\n",
       "    }\n",
       "\n",
       "    .dataframe thead tr th {\n",
       "        text-align: left;\n",
       "    }\n",
       "\n",
       "    .dataframe thead tr:last-of-type th {\n",
       "        text-align: right;\n",
       "    }\n",
       "</style>\n",
       "<table border=\"1\" class=\"dataframe\">\n",
       "  <thead>\n",
       "    <tr>\n",
       "      <th></th>\n",
       "      <th>PRICE</th>\n",
       "    </tr>\n",
       "    <tr>\n",
       "      <th></th>\n",
       "      <th>count</th>\n",
       "    </tr>\n",
       "    <tr>\n",
       "      <th>SOURCE</th>\n",
       "      <th></th>\n",
       "    </tr>\n",
       "  </thead>\n",
       "  <tbody>\n",
       "    <tr>\n",
       "      <th>android</th>\n",
       "      <td>2974</td>\n",
       "    </tr>\n",
       "    <tr>\n",
       "      <th>ios</th>\n",
       "      <td>2026</td>\n",
       "    </tr>\n",
       "  </tbody>\n",
       "</table>\n",
       "</div>"
      ],
      "text/plain": [
       "        PRICE\n",
       "        count\n",
       "SOURCE       \n",
       "android  2974\n",
       "ios      2026"
      ]
     },
     "execution_count": 9,
     "metadata": {},
     "output_type": "execute_result"
    }
   ],
   "source": [
    "df.groupby(\"SOURCE\").agg({\"PRICE\": [\"count\"]})"
   ]
  },
  {
   "cell_type": "markdown",
   "id": "f0dafa31",
   "metadata": {
    "papermill": {
     "duration": 0.00908,
     "end_time": "2023-11-06T00:33:52.244501",
     "exception": false,
     "start_time": "2023-11-06T00:33:52.235421",
     "status": "completed"
    },
    "tags": []
   },
   "source": [
    "The PRICE averages by country"
   ]
  },
  {
   "cell_type": "code",
   "execution_count": 10,
   "id": "5998a3e8",
   "metadata": {
    "execution": {
     "iopub.execute_input": "2023-11-06T00:33:52.266088Z",
     "iopub.status.busy": "2023-11-06T00:33:52.265222Z",
     "iopub.status.idle": "2023-11-06T00:33:52.283115Z",
     "shell.execute_reply": "2023-11-06T00:33:52.282103Z"
    },
    "papermill": {
     "duration": 0.031465,
     "end_time": "2023-11-06T00:33:52.285438",
     "exception": false,
     "start_time": "2023-11-06T00:33:52.253973",
     "status": "completed"
    },
    "tags": []
   },
   "outputs": [
    {
     "data": {
      "text/html": [
       "<div>\n",
       "<style scoped>\n",
       "    .dataframe tbody tr th:only-of-type {\n",
       "        vertical-align: middle;\n",
       "    }\n",
       "\n",
       "    .dataframe tbody tr th {\n",
       "        vertical-align: top;\n",
       "    }\n",
       "\n",
       "    .dataframe thead tr th {\n",
       "        text-align: left;\n",
       "    }\n",
       "\n",
       "    .dataframe thead tr:last-of-type th {\n",
       "        text-align: right;\n",
       "    }\n",
       "</style>\n",
       "<table border=\"1\" class=\"dataframe\">\n",
       "  <thead>\n",
       "    <tr>\n",
       "      <th></th>\n",
       "      <th>PRICE</th>\n",
       "    </tr>\n",
       "    <tr>\n",
       "      <th></th>\n",
       "      <th>mean</th>\n",
       "    </tr>\n",
       "    <tr>\n",
       "      <th>COUNTRY</th>\n",
       "      <th></th>\n",
       "    </tr>\n",
       "  </thead>\n",
       "  <tbody>\n",
       "    <tr>\n",
       "      <th>bra</th>\n",
       "      <td>34.327540</td>\n",
       "    </tr>\n",
       "    <tr>\n",
       "      <th>can</th>\n",
       "      <td>33.608696</td>\n",
       "    </tr>\n",
       "    <tr>\n",
       "      <th>deu</th>\n",
       "      <td>34.032967</td>\n",
       "    </tr>\n",
       "    <tr>\n",
       "      <th>fra</th>\n",
       "      <td>33.587459</td>\n",
       "    </tr>\n",
       "    <tr>\n",
       "      <th>tur</th>\n",
       "      <td>34.787140</td>\n",
       "    </tr>\n",
       "    <tr>\n",
       "      <th>usa</th>\n",
       "      <td>34.007264</td>\n",
       "    </tr>\n",
       "  </tbody>\n",
       "</table>\n",
       "</div>"
      ],
      "text/plain": [
       "             PRICE\n",
       "              mean\n",
       "COUNTRY           \n",
       "bra      34.327540\n",
       "can      33.608696\n",
       "deu      34.032967\n",
       "fra      33.587459\n",
       "tur      34.787140\n",
       "usa      34.007264"
      ]
     },
     "execution_count": 10,
     "metadata": {},
     "output_type": "execute_result"
    }
   ],
   "source": [
    "df.groupby(\"COUNTRY\").agg({\"PRICE\": [\"mean\"]})"
   ]
  },
  {
   "cell_type": "markdown",
   "id": "615c8c98",
   "metadata": {
    "papermill": {
     "duration": 0.00928,
     "end_time": "2023-11-06T00:33:52.304325",
     "exception": false,
     "start_time": "2023-11-06T00:33:52.295045",
     "status": "completed"
    },
    "tags": []
   },
   "source": [
    "The PRICE averages by SOURCE"
   ]
  },
  {
   "cell_type": "code",
   "execution_count": 11,
   "id": "c85900a2",
   "metadata": {
    "execution": {
     "iopub.execute_input": "2023-11-06T00:33:52.414392Z",
     "iopub.status.busy": "2023-11-06T00:33:52.413468Z",
     "iopub.status.idle": "2023-11-06T00:33:52.428610Z",
     "shell.execute_reply": "2023-11-06T00:33:52.427443Z"
    },
    "papermill": {
     "duration": 0.030116,
     "end_time": "2023-11-06T00:33:52.431521",
     "exception": false,
     "start_time": "2023-11-06T00:33:52.401405",
     "status": "completed"
    },
    "tags": []
   },
   "outputs": [
    {
     "data": {
      "text/html": [
       "<div>\n",
       "<style scoped>\n",
       "    .dataframe tbody tr th:only-of-type {\n",
       "        vertical-align: middle;\n",
       "    }\n",
       "\n",
       "    .dataframe tbody tr th {\n",
       "        vertical-align: top;\n",
       "    }\n",
       "\n",
       "    .dataframe thead tr th {\n",
       "        text-align: left;\n",
       "    }\n",
       "\n",
       "    .dataframe thead tr:last-of-type th {\n",
       "        text-align: right;\n",
       "    }\n",
       "</style>\n",
       "<table border=\"1\" class=\"dataframe\">\n",
       "  <thead>\n",
       "    <tr>\n",
       "      <th></th>\n",
       "      <th>PRICE</th>\n",
       "    </tr>\n",
       "    <tr>\n",
       "      <th></th>\n",
       "      <th>mean</th>\n",
       "    </tr>\n",
       "    <tr>\n",
       "      <th>SOURCE</th>\n",
       "      <th></th>\n",
       "    </tr>\n",
       "  </thead>\n",
       "  <tbody>\n",
       "    <tr>\n",
       "      <th>android</th>\n",
       "      <td>34.174849</td>\n",
       "    </tr>\n",
       "    <tr>\n",
       "      <th>ios</th>\n",
       "      <td>34.069102</td>\n",
       "    </tr>\n",
       "  </tbody>\n",
       "</table>\n",
       "</div>"
      ],
      "text/plain": [
       "             PRICE\n",
       "              mean\n",
       "SOURCE            \n",
       "android  34.174849\n",
       "ios      34.069102"
      ]
     },
     "execution_count": 11,
     "metadata": {},
     "output_type": "execute_result"
    }
   ],
   "source": [
    "df.groupby('SOURCE').agg({\"PRICE\": [\"mean\"]})"
   ]
  },
  {
   "cell_type": "markdown",
   "id": "a66a4b8f",
   "metadata": {
    "papermill": {
     "duration": 0.009537,
     "end_time": "2023-11-06T00:33:52.451168",
     "exception": false,
     "start_time": "2023-11-06T00:33:52.441631",
     "status": "completed"
    },
    "tags": []
   },
   "source": [
    "The PRICE averages by COUNTRY-SOURCE grouping"
   ]
  },
  {
   "cell_type": "code",
   "execution_count": 12,
   "id": "7d17ab3f",
   "metadata": {
    "execution": {
     "iopub.execute_input": "2023-11-06T00:33:52.473727Z",
     "iopub.status.busy": "2023-11-06T00:33:52.473286Z",
     "iopub.status.idle": "2023-11-06T00:33:52.491374Z",
     "shell.execute_reply": "2023-11-06T00:33:52.490146Z"
    },
    "papermill": {
     "duration": 0.032784,
     "end_time": "2023-11-06T00:33:52.494006",
     "exception": false,
     "start_time": "2023-11-06T00:33:52.461222",
     "status": "completed"
    },
    "tags": []
   },
   "outputs": [
    {
     "data": {
      "text/html": [
       "<div>\n",
       "<style scoped>\n",
       "    .dataframe tbody tr th:only-of-type {\n",
       "        vertical-align: middle;\n",
       "    }\n",
       "\n",
       "    .dataframe tbody tr th {\n",
       "        vertical-align: top;\n",
       "    }\n",
       "\n",
       "    .dataframe thead tr th {\n",
       "        text-align: left;\n",
       "    }\n",
       "\n",
       "    .dataframe thead tr:last-of-type th {\n",
       "        text-align: right;\n",
       "    }\n",
       "</style>\n",
       "<table border=\"1\" class=\"dataframe\">\n",
       "  <thead>\n",
       "    <tr>\n",
       "      <th></th>\n",
       "      <th></th>\n",
       "      <th>PRICE</th>\n",
       "    </tr>\n",
       "    <tr>\n",
       "      <th></th>\n",
       "      <th></th>\n",
       "      <th>mean</th>\n",
       "    </tr>\n",
       "    <tr>\n",
       "      <th>COUNTRY</th>\n",
       "      <th>SOURCE</th>\n",
       "      <th></th>\n",
       "    </tr>\n",
       "  </thead>\n",
       "  <tbody>\n",
       "    <tr>\n",
       "      <th rowspan=\"2\" valign=\"top\">bra</th>\n",
       "      <th>android</th>\n",
       "      <td>34.387029</td>\n",
       "    </tr>\n",
       "    <tr>\n",
       "      <th>ios</th>\n",
       "      <td>34.222222</td>\n",
       "    </tr>\n",
       "    <tr>\n",
       "      <th rowspan=\"2\" valign=\"top\">can</th>\n",
       "      <th>android</th>\n",
       "      <td>33.330709</td>\n",
       "    </tr>\n",
       "    <tr>\n",
       "      <th>ios</th>\n",
       "      <td>33.951456</td>\n",
       "    </tr>\n",
       "    <tr>\n",
       "      <th rowspan=\"2\" valign=\"top\">deu</th>\n",
       "      <th>android</th>\n",
       "      <td>33.869888</td>\n",
       "    </tr>\n",
       "    <tr>\n",
       "      <th>ios</th>\n",
       "      <td>34.268817</td>\n",
       "    </tr>\n",
       "    <tr>\n",
       "      <th rowspan=\"2\" valign=\"top\">fra</th>\n",
       "      <th>android</th>\n",
       "      <td>34.312500</td>\n",
       "    </tr>\n",
       "    <tr>\n",
       "      <th>ios</th>\n",
       "      <td>32.776224</td>\n",
       "    </tr>\n",
       "    <tr>\n",
       "      <th rowspan=\"2\" valign=\"top\">tur</th>\n",
       "      <th>android</th>\n",
       "      <td>36.229437</td>\n",
       "    </tr>\n",
       "    <tr>\n",
       "      <th>ios</th>\n",
       "      <td>33.272727</td>\n",
       "    </tr>\n",
       "    <tr>\n",
       "      <th rowspan=\"2\" valign=\"top\">usa</th>\n",
       "      <th>android</th>\n",
       "      <td>33.760357</td>\n",
       "    </tr>\n",
       "    <tr>\n",
       "      <th>ios</th>\n",
       "      <td>34.371703</td>\n",
       "    </tr>\n",
       "  </tbody>\n",
       "</table>\n",
       "</div>"
      ],
      "text/plain": [
       "                     PRICE\n",
       "                      mean\n",
       "COUNTRY SOURCE            \n",
       "bra     android  34.387029\n",
       "        ios      34.222222\n",
       "can     android  33.330709\n",
       "        ios      33.951456\n",
       "deu     android  33.869888\n",
       "        ios      34.268817\n",
       "fra     android  34.312500\n",
       "        ios      32.776224\n",
       "tur     android  36.229437\n",
       "        ios      33.272727\n",
       "usa     android  33.760357\n",
       "        ios      34.371703"
      ]
     },
     "execution_count": 12,
     "metadata": {},
     "output_type": "execute_result"
    }
   ],
   "source": [
    "df.groupby([\"COUNTRY\", \"SOURCE\"]).agg({\"PRICE\": [\"mean\"]})"
   ]
  },
  {
   "cell_type": "markdown",
   "id": "769c2d43",
   "metadata": {
    "papermill": {
     "duration": 0.009897,
     "end_time": "2023-11-06T00:33:52.514257",
     "exception": false,
     "start_time": "2023-11-06T00:33:52.504360",
     "status": "completed"
    },
    "tags": []
   },
   "source": [
    "The average earnings by COUNTRY, SOURCE, SEX, AGE grouping"
   ]
  },
  {
   "cell_type": "code",
   "execution_count": 13,
   "id": "0f19d54d",
   "metadata": {
    "execution": {
     "iopub.execute_input": "2023-11-06T00:33:52.536572Z",
     "iopub.status.busy": "2023-11-06T00:33:52.536122Z",
     "iopub.status.idle": "2023-11-06T00:33:52.552914Z",
     "shell.execute_reply": "2023-11-06T00:33:52.551576Z"
    },
    "papermill": {
     "duration": 0.031226,
     "end_time": "2023-11-06T00:33:52.555558",
     "exception": false,
     "start_time": "2023-11-06T00:33:52.524332",
     "status": "completed"
    },
    "tags": []
   },
   "outputs": [
    {
     "data": {
      "text/html": [
       "<div>\n",
       "<style scoped>\n",
       "    .dataframe tbody tr th:only-of-type {\n",
       "        vertical-align: middle;\n",
       "    }\n",
       "\n",
       "    .dataframe tbody tr th {\n",
       "        vertical-align: top;\n",
       "    }\n",
       "\n",
       "    .dataframe thead th {\n",
       "        text-align: right;\n",
       "    }\n",
       "</style>\n",
       "<table border=\"1\" class=\"dataframe\">\n",
       "  <thead>\n",
       "    <tr style=\"text-align: right;\">\n",
       "      <th></th>\n",
       "      <th></th>\n",
       "      <th></th>\n",
       "      <th></th>\n",
       "      <th>PRICE</th>\n",
       "    </tr>\n",
       "    <tr>\n",
       "      <th>COUNTRY</th>\n",
       "      <th>SOURCE</th>\n",
       "      <th>SEX</th>\n",
       "      <th>AGE</th>\n",
       "      <th></th>\n",
       "    </tr>\n",
       "  </thead>\n",
       "  <tbody>\n",
       "    <tr>\n",
       "      <th rowspan=\"5\" valign=\"top\">bra</th>\n",
       "      <th rowspan=\"5\" valign=\"top\">android</th>\n",
       "      <th rowspan=\"5\" valign=\"top\">female</th>\n",
       "      <th>15</th>\n",
       "      <td>38.714286</td>\n",
       "    </tr>\n",
       "    <tr>\n",
       "      <th>16</th>\n",
       "      <td>35.944444</td>\n",
       "    </tr>\n",
       "    <tr>\n",
       "      <th>17</th>\n",
       "      <td>35.666667</td>\n",
       "    </tr>\n",
       "    <tr>\n",
       "      <th>18</th>\n",
       "      <td>32.255814</td>\n",
       "    </tr>\n",
       "    <tr>\n",
       "      <th>19</th>\n",
       "      <td>35.206897</td>\n",
       "    </tr>\n",
       "  </tbody>\n",
       "</table>\n",
       "</div>"
      ],
      "text/plain": [
       "                                PRICE\n",
       "COUNTRY SOURCE  SEX    AGE           \n",
       "bra     android female 15   38.714286\n",
       "                       16   35.944444\n",
       "                       17   35.666667\n",
       "                       18   32.255814\n",
       "                       19   35.206897"
      ]
     },
     "execution_count": 13,
     "metadata": {},
     "output_type": "execute_result"
    }
   ],
   "source": [
    "df.groupby([\"COUNTRY\", \"SOURCE\", \"SEX\", \"AGE\"]).agg({\"PRICE\": \"mean\"}).head()"
   ]
  },
  {
   "cell_type": "markdown",
   "id": "a9189a41",
   "metadata": {
    "papermill": {
     "duration": 0.010043,
     "end_time": "2023-11-06T00:33:52.576044",
     "exception": false,
     "start_time": "2023-11-06T00:33:52.566001",
     "status": "completed"
    },
    "tags": []
   },
   "source": [
    "We will sort the output by PRICE. To better see the output from the previous question, we will apply the sort_values method to PRICE in descending order. We will save the output as 'agg_df'."
   ]
  },
  {
   "cell_type": "code",
   "execution_count": 14,
   "id": "1e43a92c",
   "metadata": {
    "execution": {
     "iopub.execute_input": "2023-11-06T00:33:52.599849Z",
     "iopub.status.busy": "2023-11-06T00:33:52.599377Z",
     "iopub.status.idle": "2023-11-06T00:33:52.618203Z",
     "shell.execute_reply": "2023-11-06T00:33:52.617248Z"
    },
    "papermill": {
     "duration": 0.033686,
     "end_time": "2023-11-06T00:33:52.620478",
     "exception": false,
     "start_time": "2023-11-06T00:33:52.586792",
     "status": "completed"
    },
    "tags": []
   },
   "outputs": [
    {
     "data": {
      "text/html": [
       "<div>\n",
       "<style scoped>\n",
       "    .dataframe tbody tr th:only-of-type {\n",
       "        vertical-align: middle;\n",
       "    }\n",
       "\n",
       "    .dataframe tbody tr th {\n",
       "        vertical-align: top;\n",
       "    }\n",
       "\n",
       "    .dataframe thead th {\n",
       "        text-align: right;\n",
       "    }\n",
       "</style>\n",
       "<table border=\"1\" class=\"dataframe\">\n",
       "  <thead>\n",
       "    <tr style=\"text-align: right;\">\n",
       "      <th></th>\n",
       "      <th></th>\n",
       "      <th></th>\n",
       "      <th></th>\n",
       "      <th>PRICE</th>\n",
       "    </tr>\n",
       "    <tr>\n",
       "      <th>COUNTRY</th>\n",
       "      <th>SOURCE</th>\n",
       "      <th>SEX</th>\n",
       "      <th>AGE</th>\n",
       "      <th></th>\n",
       "    </tr>\n",
       "  </thead>\n",
       "  <tbody>\n",
       "    <tr>\n",
       "      <th>bra</th>\n",
       "      <th>android</th>\n",
       "      <th>male</th>\n",
       "      <th>46</th>\n",
       "      <td>59.0</td>\n",
       "    </tr>\n",
       "    <tr>\n",
       "      <th>usa</th>\n",
       "      <th>android</th>\n",
       "      <th>male</th>\n",
       "      <th>36</th>\n",
       "      <td>59.0</td>\n",
       "    </tr>\n",
       "    <tr>\n",
       "      <th>fra</th>\n",
       "      <th>android</th>\n",
       "      <th>female</th>\n",
       "      <th>24</th>\n",
       "      <td>59.0</td>\n",
       "    </tr>\n",
       "    <tr>\n",
       "      <th>usa</th>\n",
       "      <th>ios</th>\n",
       "      <th>male</th>\n",
       "      <th>32</th>\n",
       "      <td>54.0</td>\n",
       "    </tr>\n",
       "    <tr>\n",
       "      <th>deu</th>\n",
       "      <th>android</th>\n",
       "      <th>female</th>\n",
       "      <th>36</th>\n",
       "      <td>49.0</td>\n",
       "    </tr>\n",
       "  </tbody>\n",
       "</table>\n",
       "</div>"
      ],
      "text/plain": [
       "                            PRICE\n",
       "COUNTRY SOURCE  SEX    AGE       \n",
       "bra     android male   46    59.0\n",
       "usa     android male   36    59.0\n",
       "fra     android female 24    59.0\n",
       "usa     ios     male   32    54.0\n",
       "deu     android female 36    49.0"
      ]
     },
     "execution_count": 14,
     "metadata": {},
     "output_type": "execute_result"
    }
   ],
   "source": [
    "agg_df = df.groupby([\"COUNTRY\",\"SOURCE\",\"SEX\",\"AGE\"]).agg({\"PRICE\":\"mean\"}).sort_values(\"PRICE\", ascending=False)\n",
    "agg_df.head()"
   ]
  },
  {
   "cell_type": "markdown",
   "id": "b5579ce4",
   "metadata": {
    "papermill": {
     "duration": 0.010268,
     "end_time": "2023-11-06T00:33:52.641314",
     "exception": false,
     "start_time": "2023-11-06T00:33:52.631046",
     "status": "completed"
    },
    "tags": []
   },
   "source": [
    "Let's convert the index names into variable names. All variables other than PRICE in the output of the third question are index names. Let's convert these names into variable names."
   ]
  },
  {
   "cell_type": "code",
   "execution_count": 15,
   "id": "452c5a13",
   "metadata": {
    "execution": {
     "iopub.execute_input": "2023-11-06T00:33:52.665147Z",
     "iopub.status.busy": "2023-11-06T00:33:52.664011Z",
     "iopub.status.idle": "2023-11-06T00:33:52.680120Z",
     "shell.execute_reply": "2023-11-06T00:33:52.678950Z"
    },
    "papermill": {
     "duration": 0.0309,
     "end_time": "2023-11-06T00:33:52.682648",
     "exception": false,
     "start_time": "2023-11-06T00:33:52.651748",
     "status": "completed"
    },
    "tags": []
   },
   "outputs": [
    {
     "data": {
      "text/html": [
       "<div>\n",
       "<style scoped>\n",
       "    .dataframe tbody tr th:only-of-type {\n",
       "        vertical-align: middle;\n",
       "    }\n",
       "\n",
       "    .dataframe tbody tr th {\n",
       "        vertical-align: top;\n",
       "    }\n",
       "\n",
       "    .dataframe thead th {\n",
       "        text-align: right;\n",
       "    }\n",
       "</style>\n",
       "<table border=\"1\" class=\"dataframe\">\n",
       "  <thead>\n",
       "    <tr style=\"text-align: right;\">\n",
       "      <th></th>\n",
       "      <th>COUNTRY</th>\n",
       "      <th>SOURCE</th>\n",
       "      <th>SEX</th>\n",
       "      <th>AGE</th>\n",
       "      <th>PRICE</th>\n",
       "    </tr>\n",
       "  </thead>\n",
       "  <tbody>\n",
       "    <tr>\n",
       "      <th>0</th>\n",
       "      <td>bra</td>\n",
       "      <td>android</td>\n",
       "      <td>male</td>\n",
       "      <td>46</td>\n",
       "      <td>59.0</td>\n",
       "    </tr>\n",
       "    <tr>\n",
       "      <th>1</th>\n",
       "      <td>usa</td>\n",
       "      <td>android</td>\n",
       "      <td>male</td>\n",
       "      <td>36</td>\n",
       "      <td>59.0</td>\n",
       "    </tr>\n",
       "    <tr>\n",
       "      <th>2</th>\n",
       "      <td>fra</td>\n",
       "      <td>android</td>\n",
       "      <td>female</td>\n",
       "      <td>24</td>\n",
       "      <td>59.0</td>\n",
       "    </tr>\n",
       "    <tr>\n",
       "      <th>3</th>\n",
       "      <td>usa</td>\n",
       "      <td>ios</td>\n",
       "      <td>male</td>\n",
       "      <td>32</td>\n",
       "      <td>54.0</td>\n",
       "    </tr>\n",
       "    <tr>\n",
       "      <th>4</th>\n",
       "      <td>deu</td>\n",
       "      <td>android</td>\n",
       "      <td>female</td>\n",
       "      <td>36</td>\n",
       "      <td>49.0</td>\n",
       "    </tr>\n",
       "  </tbody>\n",
       "</table>\n",
       "</div>"
      ],
      "text/plain": [
       "  COUNTRY   SOURCE     SEX  AGE  PRICE\n",
       "0     bra  android    male   46   59.0\n",
       "1     usa  android    male   36   59.0\n",
       "2     fra  android  female   24   59.0\n",
       "3     usa      ios    male   32   54.0\n",
       "4     deu  android  female   36   49.0"
      ]
     },
     "execution_count": 15,
     "metadata": {},
     "output_type": "execute_result"
    }
   ],
   "source": [
    "agg_df = agg_df.reset_index()\n",
    "agg_df.head()"
   ]
  },
  {
   "cell_type": "markdown",
   "id": "2c9ded04",
   "metadata": {
    "papermill": {
     "duration": 0.010626,
     "end_time": "2023-11-06T00:33:52.704101",
     "exception": false,
     "start_time": "2023-11-06T00:33:52.693475",
     "status": "completed"
    },
    "tags": []
   },
   "source": [
    "Let's convert the numerical variable AGE into a categorical variable and then add it to agg_df. We will create intervals for it."
   ]
  },
  {
   "cell_type": "code",
   "execution_count": 16,
   "id": "4416a899",
   "metadata": {
    "execution": {
     "iopub.execute_input": "2023-11-06T00:33:52.727310Z",
     "iopub.status.busy": "2023-11-06T00:33:52.726834Z",
     "iopub.status.idle": "2023-11-06T00:33:52.746312Z",
     "shell.execute_reply": "2023-11-06T00:33:52.745292Z"
    },
    "papermill": {
     "duration": 0.034223,
     "end_time": "2023-11-06T00:33:52.748850",
     "exception": false,
     "start_time": "2023-11-06T00:33:52.714627",
     "status": "completed"
    },
    "tags": []
   },
   "outputs": [
    {
     "data": {
      "text/html": [
       "<div>\n",
       "<style scoped>\n",
       "    .dataframe tbody tr th:only-of-type {\n",
       "        vertical-align: middle;\n",
       "    }\n",
       "\n",
       "    .dataframe tbody tr th {\n",
       "        vertical-align: top;\n",
       "    }\n",
       "\n",
       "    .dataframe thead th {\n",
       "        text-align: right;\n",
       "    }\n",
       "</style>\n",
       "<table border=\"1\" class=\"dataframe\">\n",
       "  <thead>\n",
       "    <tr style=\"text-align: right;\">\n",
       "      <th></th>\n",
       "      <th>COUNTRY</th>\n",
       "      <th>SOURCE</th>\n",
       "      <th>SEX</th>\n",
       "      <th>AGE</th>\n",
       "      <th>PRICE</th>\n",
       "      <th>AGE_CAT</th>\n",
       "    </tr>\n",
       "  </thead>\n",
       "  <tbody>\n",
       "    <tr>\n",
       "      <th>0</th>\n",
       "      <td>bra</td>\n",
       "      <td>android</td>\n",
       "      <td>male</td>\n",
       "      <td>46</td>\n",
       "      <td>59.0</td>\n",
       "      <td>41_70</td>\n",
       "    </tr>\n",
       "    <tr>\n",
       "      <th>1</th>\n",
       "      <td>usa</td>\n",
       "      <td>android</td>\n",
       "      <td>male</td>\n",
       "      <td>36</td>\n",
       "      <td>59.0</td>\n",
       "      <td>31_40</td>\n",
       "    </tr>\n",
       "    <tr>\n",
       "      <th>2</th>\n",
       "      <td>fra</td>\n",
       "      <td>android</td>\n",
       "      <td>female</td>\n",
       "      <td>24</td>\n",
       "      <td>59.0</td>\n",
       "      <td>24_30</td>\n",
       "    </tr>\n",
       "    <tr>\n",
       "      <th>3</th>\n",
       "      <td>usa</td>\n",
       "      <td>ios</td>\n",
       "      <td>male</td>\n",
       "      <td>32</td>\n",
       "      <td>54.0</td>\n",
       "      <td>31_40</td>\n",
       "    </tr>\n",
       "    <tr>\n",
       "      <th>4</th>\n",
       "      <td>deu</td>\n",
       "      <td>android</td>\n",
       "      <td>female</td>\n",
       "      <td>36</td>\n",
       "      <td>49.0</td>\n",
       "      <td>31_40</td>\n",
       "    </tr>\n",
       "  </tbody>\n",
       "</table>\n",
       "</div>"
      ],
      "text/plain": [
       "  COUNTRY   SOURCE     SEX  AGE  PRICE AGE_CAT\n",
       "0     bra  android    male   46   59.0   41_70\n",
       "1     usa  android    male   36   59.0   31_40\n",
       "2     fra  android  female   24   59.0   24_30\n",
       "3     usa      ios    male   32   54.0   31_40\n",
       "4     deu  android  female   36   49.0   31_40"
      ]
     },
     "execution_count": 16,
     "metadata": {},
     "output_type": "execute_result"
    }
   ],
   "source": [
    "agg_df['AGE_CAT'] = pd.cut(agg_df['AGE'], [0, 18, 23, 30, 40, 70], labels=['0_18', '19_23', '24_30', '31_40', '41_70'])\n",
    "agg_df.head()"
   ]
  },
  {
   "cell_type": "markdown",
   "id": "561dfcd8",
   "metadata": {
    "papermill": {
     "duration": 0.012088,
     "end_time": "2023-11-06T00:33:52.772023",
     "exception": false,
     "start_time": "2023-11-06T00:33:52.759935",
     "status": "completed"
    },
    "tags": []
   },
   "source": [
    "Let's define new level-based customers and add them as variables to the dataset.\n",
    "\n",
    "- We will define a variable named 'customers_level_based' and later add this variable to the dataset.\n",
    "- Note: After creating the values for 'customers_level_based' with list comprehensions, these values need to be deduplicated. For example, there may be multiple occurrences of expressions like 'USA_ANDROID_MALE_0_18.' These should be grouped and the price averages should be calculated."
   ]
  },
  {
   "cell_type": "code",
   "execution_count": 17,
   "id": "f086ef09",
   "metadata": {
    "execution": {
     "iopub.execute_input": "2023-11-06T00:33:52.797108Z",
     "iopub.status.busy": "2023-11-06T00:33:52.796621Z",
     "iopub.status.idle": "2023-11-06T00:33:52.814360Z",
     "shell.execute_reply": "2023-11-06T00:33:52.813371Z"
    },
    "papermill": {
     "duration": 0.032915,
     "end_time": "2023-11-06T00:33:52.816838",
     "exception": false,
     "start_time": "2023-11-06T00:33:52.783923",
     "status": "completed"
    },
    "tags": []
   },
   "outputs": [
    {
     "data": {
      "text/html": [
       "<div>\n",
       "<style scoped>\n",
       "    .dataframe tbody tr th:only-of-type {\n",
       "        vertical-align: middle;\n",
       "    }\n",
       "\n",
       "    .dataframe tbody tr th {\n",
       "        vertical-align: top;\n",
       "    }\n",
       "\n",
       "    .dataframe thead th {\n",
       "        text-align: right;\n",
       "    }\n",
       "</style>\n",
       "<table border=\"1\" class=\"dataframe\">\n",
       "  <thead>\n",
       "    <tr style=\"text-align: right;\">\n",
       "      <th></th>\n",
       "      <th>COUNTRY</th>\n",
       "      <th>SOURCE</th>\n",
       "      <th>SEX</th>\n",
       "      <th>AGE</th>\n",
       "      <th>PRICE</th>\n",
       "      <th>AGE_CAT</th>\n",
       "      <th>customers_level_based</th>\n",
       "    </tr>\n",
       "  </thead>\n",
       "  <tbody>\n",
       "    <tr>\n",
       "      <th>0</th>\n",
       "      <td>bra</td>\n",
       "      <td>android</td>\n",
       "      <td>male</td>\n",
       "      <td>46</td>\n",
       "      <td>59.0</td>\n",
       "      <td>41_70</td>\n",
       "      <td>BRA_ANDROID_MALE_41_70</td>\n",
       "    </tr>\n",
       "    <tr>\n",
       "      <th>1</th>\n",
       "      <td>usa</td>\n",
       "      <td>android</td>\n",
       "      <td>male</td>\n",
       "      <td>36</td>\n",
       "      <td>59.0</td>\n",
       "      <td>31_40</td>\n",
       "      <td>USA_ANDROID_MALE_31_40</td>\n",
       "    </tr>\n",
       "    <tr>\n",
       "      <th>2</th>\n",
       "      <td>fra</td>\n",
       "      <td>android</td>\n",
       "      <td>female</td>\n",
       "      <td>24</td>\n",
       "      <td>59.0</td>\n",
       "      <td>24_30</td>\n",
       "      <td>FRA_ANDROID_FEMALE_24_30</td>\n",
       "    </tr>\n",
       "    <tr>\n",
       "      <th>3</th>\n",
       "      <td>usa</td>\n",
       "      <td>ios</td>\n",
       "      <td>male</td>\n",
       "      <td>32</td>\n",
       "      <td>54.0</td>\n",
       "      <td>31_40</td>\n",
       "      <td>USA_IOS_MALE_31_40</td>\n",
       "    </tr>\n",
       "    <tr>\n",
       "      <th>4</th>\n",
       "      <td>deu</td>\n",
       "      <td>android</td>\n",
       "      <td>female</td>\n",
       "      <td>36</td>\n",
       "      <td>49.0</td>\n",
       "      <td>31_40</td>\n",
       "      <td>DEU_ANDROID_FEMALE_31_40</td>\n",
       "    </tr>\n",
       "  </tbody>\n",
       "</table>\n",
       "</div>"
      ],
      "text/plain": [
       "  COUNTRY   SOURCE     SEX  AGE  PRICE AGE_CAT     customers_level_based\n",
       "0     bra  android    male   46   59.0   41_70    BRA_ANDROID_MALE_41_70\n",
       "1     usa  android    male   36   59.0   31_40    USA_ANDROID_MALE_31_40\n",
       "2     fra  android  female   24   59.0   24_30  FRA_ANDROID_FEMALE_24_30\n",
       "3     usa      ios    male   32   54.0   31_40        USA_IOS_MALE_31_40\n",
       "4     deu  android  female   36   49.0   31_40  DEU_ANDROID_FEMALE_31_40"
      ]
     },
     "execution_count": 17,
     "metadata": {},
     "output_type": "execute_result"
    }
   ],
   "source": [
    "agg_df[\"customers_level_based\"] = [(i[0]+\"_\"+i[1]+\"_\"+i[2]+\"_\"+i[5]).upper() for i in agg_df.values]\n",
    "agg_df.head()"
   ]
  },
  {
   "cell_type": "markdown",
   "id": "85e5c785",
   "metadata": {
    "papermill": {
     "duration": 0.010635,
     "end_time": "2023-11-06T00:33:52.838908",
     "exception": false,
     "start_time": "2023-11-06T00:33:52.828273",
     "status": "completed"
    },
    "tags": []
   },
   "source": [
    "Let's segment the new customers (USA_ANDROID_MALE_0_18) into groups.\n",
    "\n",
    "- Let's segment based on PRICE.\n",
    "- Let's add the segments to agg_df with the name 'SEGMENT'.\n",
    "- Describe the segments."
   ]
  },
  {
   "cell_type": "code",
   "execution_count": 18,
   "id": "4b0ac3b1",
   "metadata": {
    "execution": {
     "iopub.execute_input": "2023-11-06T00:33:52.862979Z",
     "iopub.status.busy": "2023-11-06T00:33:52.862503Z",
     "iopub.status.idle": "2023-11-06T00:33:52.886843Z",
     "shell.execute_reply": "2023-11-06T00:33:52.885836Z"
    },
    "papermill": {
     "duration": 0.03926,
     "end_time": "2023-11-06T00:33:52.889227",
     "exception": false,
     "start_time": "2023-11-06T00:33:52.849967",
     "status": "completed"
    },
    "tags": []
   },
   "outputs": [
    {
     "data": {
      "text/html": [
       "<div>\n",
       "<style scoped>\n",
       "    .dataframe tbody tr th:only-of-type {\n",
       "        vertical-align: middle;\n",
       "    }\n",
       "\n",
       "    .dataframe tbody tr th {\n",
       "        vertical-align: top;\n",
       "    }\n",
       "\n",
       "    .dataframe thead tr th {\n",
       "        text-align: left;\n",
       "    }\n",
       "\n",
       "    .dataframe thead tr:last-of-type th {\n",
       "        text-align: right;\n",
       "    }\n",
       "</style>\n",
       "<table border=\"1\" class=\"dataframe\">\n",
       "  <thead>\n",
       "    <tr>\n",
       "      <th></th>\n",
       "      <th colspan=\"3\" halign=\"left\">PRICE</th>\n",
       "    </tr>\n",
       "    <tr>\n",
       "      <th></th>\n",
       "      <th>mean</th>\n",
       "      <th>max</th>\n",
       "      <th>sum</th>\n",
       "    </tr>\n",
       "    <tr>\n",
       "      <th>SEGMENT</th>\n",
       "      <th></th>\n",
       "      <th></th>\n",
       "      <th></th>\n",
       "    </tr>\n",
       "  </thead>\n",
       "  <tbody>\n",
       "    <tr>\n",
       "      <th>D</th>\n",
       "      <td>27.302596</td>\n",
       "      <td>31.105263</td>\n",
       "      <td>2375.325850</td>\n",
       "    </tr>\n",
       "    <tr>\n",
       "      <th>C</th>\n",
       "      <td>32.933339</td>\n",
       "      <td>34.000000</td>\n",
       "      <td>3128.667165</td>\n",
       "    </tr>\n",
       "    <tr>\n",
       "      <th>B</th>\n",
       "      <td>35.436170</td>\n",
       "      <td>37.000000</td>\n",
       "      <td>2870.329792</td>\n",
       "    </tr>\n",
       "    <tr>\n",
       "      <th>A</th>\n",
       "      <td>41.434736</td>\n",
       "      <td>59.000000</td>\n",
       "      <td>3521.952577</td>\n",
       "    </tr>\n",
       "  </tbody>\n",
       "</table>\n",
       "</div>"
      ],
      "text/plain": [
       "             PRICE                        \n",
       "              mean        max          sum\n",
       "SEGMENT                                   \n",
       "D        27.302596  31.105263  2375.325850\n",
       "C        32.933339  34.000000  3128.667165\n",
       "B        35.436170  37.000000  2870.329792\n",
       "A        41.434736  59.000000  3521.952577"
      ]
     },
     "execution_count": 18,
     "metadata": {},
     "output_type": "execute_result"
    }
   ],
   "source": [
    "agg_df[\"SEGMENT\"] = pd.qcut(agg_df[\"PRICE\"], 4 ,[\"D\",\"C\",\"B\",\"A\"])\n",
    "agg_df.groupby(\"SEGMENT\").agg({\"PRICE\": [\"mean\",\"max\",\"sum\"]})"
   ]
  },
  {
   "cell_type": "markdown",
   "id": "f410f8f2",
   "metadata": {
    "papermill": {
     "duration": 0.010904,
     "end_time": "2023-11-06T00:33:52.911565",
     "exception": false,
     "start_time": "2023-11-06T00:33:52.900661",
     "status": "completed"
    },
    "tags": []
   },
   "source": [
    "Let's classify the new incoming customers and estimate how much revenue they can potentially generate.\n",
    "\n",
    "- Which segment does a 33-year-old Turkish woman using an ANDROID device belong to, and what is the expected average spending she can make?"
   ]
  },
  {
   "cell_type": "code",
   "execution_count": 19,
   "id": "1bfe8471",
   "metadata": {
    "execution": {
     "iopub.execute_input": "2023-11-06T00:33:52.936879Z",
     "iopub.status.busy": "2023-11-06T00:33:52.935977Z",
     "iopub.status.idle": "2023-11-06T00:33:52.951624Z",
     "shell.execute_reply": "2023-11-06T00:33:52.950664Z"
    },
    "papermill": {
     "duration": 0.03113,
     "end_time": "2023-11-06T00:33:52.953959",
     "exception": false,
     "start_time": "2023-11-06T00:33:52.922829",
     "status": "completed"
    },
    "tags": []
   },
   "outputs": [
    {
     "data": {
      "text/html": [
       "<div>\n",
       "<style scoped>\n",
       "    .dataframe tbody tr th:only-of-type {\n",
       "        vertical-align: middle;\n",
       "    }\n",
       "\n",
       "    .dataframe tbody tr th {\n",
       "        vertical-align: top;\n",
       "    }\n",
       "\n",
       "    .dataframe thead th {\n",
       "        text-align: right;\n",
       "    }\n",
       "</style>\n",
       "<table border=\"1\" class=\"dataframe\">\n",
       "  <thead>\n",
       "    <tr style=\"text-align: right;\">\n",
       "      <th></th>\n",
       "      <th>COUNTRY</th>\n",
       "      <th>SOURCE</th>\n",
       "      <th>SEX</th>\n",
       "      <th>AGE</th>\n",
       "      <th>PRICE</th>\n",
       "      <th>AGE_CAT</th>\n",
       "      <th>customers_level_based</th>\n",
       "      <th>SEGMENT</th>\n",
       "    </tr>\n",
       "  </thead>\n",
       "  <tbody>\n",
       "    <tr>\n",
       "      <th>18</th>\n",
       "      <td>tur</td>\n",
       "      <td>android</td>\n",
       "      <td>female</td>\n",
       "      <td>32</td>\n",
       "      <td>43.000000</td>\n",
       "      <td>31_40</td>\n",
       "      <td>TUR_ANDROID_FEMALE_31_40</td>\n",
       "      <td>A</td>\n",
       "    </tr>\n",
       "    <tr>\n",
       "      <th>35</th>\n",
       "      <td>tur</td>\n",
       "      <td>android</td>\n",
       "      <td>female</td>\n",
       "      <td>31</td>\n",
       "      <td>40.666667</td>\n",
       "      <td>31_40</td>\n",
       "      <td>TUR_ANDROID_FEMALE_31_40</td>\n",
       "      <td>A</td>\n",
       "    </tr>\n",
       "  </tbody>\n",
       "</table>\n",
       "</div>"
      ],
      "text/plain": [
       "   COUNTRY   SOURCE     SEX  AGE      PRICE AGE_CAT     customers_level_based  \\\n",
       "18     tur  android  female   32  43.000000   31_40  TUR_ANDROID_FEMALE_31_40   \n",
       "35     tur  android  female   31  40.666667   31_40  TUR_ANDROID_FEMALE_31_40   \n",
       "\n",
       "   SEGMENT  \n",
       "18       A  \n",
       "35       A  "
      ]
     },
     "execution_count": 19,
     "metadata": {},
     "output_type": "execute_result"
    }
   ],
   "source": [
    "new_user = 'TUR_ANDROID_FEMALE_31_40'\n",
    "agg_df[agg_df[\"customers_level_based\"] == new_user]"
   ]
  },
  {
   "cell_type": "markdown",
   "id": "4f0965d4",
   "metadata": {
    "papermill": {
     "duration": 0.011086,
     "end_time": "2023-11-06T00:33:52.976769",
     "exception": false,
     "start_time": "2023-11-06T00:33:52.965683",
     "status": "completed"
    },
    "tags": []
   },
   "source": [
    "- Which segment does a 35-year-old French woman using an IOS device belong to, and what is the expected average spending she can make?"
   ]
  },
  {
   "cell_type": "code",
   "execution_count": 20,
   "id": "9b7d750d",
   "metadata": {
    "execution": {
     "iopub.execute_input": "2023-11-06T00:33:53.001684Z",
     "iopub.status.busy": "2023-11-06T00:33:53.001162Z",
     "iopub.status.idle": "2023-11-06T00:33:53.018164Z",
     "shell.execute_reply": "2023-11-06T00:33:53.016943Z"
    },
    "papermill": {
     "duration": 0.032583,
     "end_time": "2023-11-06T00:33:53.020708",
     "exception": false,
     "start_time": "2023-11-06T00:33:52.988125",
     "status": "completed"
    },
    "tags": []
   },
   "outputs": [
    {
     "data": {
      "text/html": [
       "<div>\n",
       "<style scoped>\n",
       "    .dataframe tbody tr th:only-of-type {\n",
       "        vertical-align: middle;\n",
       "    }\n",
       "\n",
       "    .dataframe tbody tr th {\n",
       "        vertical-align: top;\n",
       "    }\n",
       "\n",
       "    .dataframe thead th {\n",
       "        text-align: right;\n",
       "    }\n",
       "</style>\n",
       "<table border=\"1\" class=\"dataframe\">\n",
       "  <thead>\n",
       "    <tr style=\"text-align: right;\">\n",
       "      <th></th>\n",
       "      <th>COUNTRY</th>\n",
       "      <th>SOURCE</th>\n",
       "      <th>SEX</th>\n",
       "      <th>AGE</th>\n",
       "      <th>PRICE</th>\n",
       "      <th>AGE_CAT</th>\n",
       "      <th>customers_level_based</th>\n",
       "      <th>SEGMENT</th>\n",
       "    </tr>\n",
       "  </thead>\n",
       "  <tbody>\n",
       "    <tr>\n",
       "      <th>208</th>\n",
       "      <td>fra</td>\n",
       "      <td>ios</td>\n",
       "      <td>female</td>\n",
       "      <td>40</td>\n",
       "      <td>33.000000</td>\n",
       "      <td>31_40</td>\n",
       "      <td>FRA_IOS_FEMALE_31_40</td>\n",
       "      <td>C</td>\n",
       "    </tr>\n",
       "    <tr>\n",
       "      <th>221</th>\n",
       "      <td>fra</td>\n",
       "      <td>ios</td>\n",
       "      <td>female</td>\n",
       "      <td>31</td>\n",
       "      <td>32.636364</td>\n",
       "      <td>31_40</td>\n",
       "      <td>FRA_IOS_FEMALE_31_40</td>\n",
       "      <td>C</td>\n",
       "    </tr>\n",
       "  </tbody>\n",
       "</table>\n",
       "</div>"
      ],
      "text/plain": [
       "    COUNTRY SOURCE     SEX  AGE      PRICE AGE_CAT customers_level_based  \\\n",
       "208     fra    ios  female   40  33.000000   31_40  FRA_IOS_FEMALE_31_40   \n",
       "221     fra    ios  female   31  32.636364   31_40  FRA_IOS_FEMALE_31_40   \n",
       "\n",
       "    SEGMENT  \n",
       "208       C  \n",
       "221       C  "
      ]
     },
     "execution_count": 20,
     "metadata": {},
     "output_type": "execute_result"
    }
   ],
   "source": [
    "new_user = \"FRA_IOS_FEMALE_31_40\"\n",
    "agg_df[agg_df[\"customers_level_based\"] == new_user]"
   ]
  }
 ],
 "metadata": {
  "kernelspec": {
   "display_name": "Python 3",
   "language": "python",
   "name": "python3"
  },
  "language_info": {
   "codemirror_mode": {
    "name": "ipython",
    "version": 3
   },
   "file_extension": ".py",
   "mimetype": "text/x-python",
   "name": "python",
   "nbconvert_exporter": "python",
   "pygments_lexer": "ipython3",
   "version": "3.10.12"
  },
  "papermill": {
   "default_parameters": {},
   "duration": 6.097335,
   "end_time": "2023-11-06T00:33:53.655941",
   "environment_variables": {},
   "exception": null,
   "input_path": "__notebook__.ipynb",
   "output_path": "__notebook__.ipynb",
   "parameters": {},
   "start_time": "2023-11-06T00:33:47.558606",
   "version": "2.4.0"
  }
 },
 "nbformat": 4,
 "nbformat_minor": 5
}
